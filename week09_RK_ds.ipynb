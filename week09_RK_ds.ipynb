{
  "nbformat": 4,
  "nbformat_minor": 0,
  "metadata": {
    "colab": {
      "provenance": [],
      "include_colab_link": true
    },
    "kernelspec": {
      "name": "python3",
      "display_name": "Python 3"
    },
    "language_info": {
      "name": "python"
    }
  },
  "cells": [
    {
      "cell_type": "markdown",
      "metadata": {
        "id": "view-in-github",
        "colab_type": "text"
      },
      "source": [
        "<a href=\"https://colab.research.google.com/github/Azzziii/Rubikamp-Data-Science-Course/blob/main/week09_RK_ds.ipynb\" target=\"_parent\"><img src=\"https://colab.research.google.com/assets/colab-badge.svg\" alt=\"Open In Colab\"/></a>"
      ]
    },
    {
      "cell_type": "code",
      "execution_count": 1,
      "metadata": {
        "id": "WZLnG4slViAr"
      },
      "outputs": [],
      "source": [
        "from google.colab import files"
      ]
    },
    {
      "cell_type": "code",
      "source": [
        "#uploaded = files.upload()"
      ],
      "metadata": {
        "id": "z06zvIARWk7P"
      },
      "execution_count": 2,
      "outputs": []
    },
    {
      "cell_type": "code",
      "source": [
        "import requests\n",
        "import pickle\n",
        "\n",
        "# URL of the pickled file\n",
        "url = 'https://github.com/Azzziii/Rubikamp-Data-Science-Course/raw/main/Salary_Estimater.pkl'\n",
        "\n",
        "# Download the file\n",
        "response = requests.get(url)\n",
        "with open('Salary_Estimater.pkl', 'wb') as file:\n",
        "    file.write(response.content)\n",
        "\n",
        "# Load the pickled file\n",
        "with open('Salary_Estimater.pkl', 'rb') as file:\n",
        "    model_pk = pickle.load(file)\n"
      ],
      "metadata": {
        "id": "1ubDMWHl3QgQ"
      },
      "execution_count": 3,
      "outputs": []
    },
    {
      "cell_type": "code",
      "source": [
        "import pandas as pd"
      ],
      "metadata": {
        "id": "yplS1ld1WrJN"
      },
      "execution_count": 4,
      "outputs": []
    },
    {
      "cell_type": "code",
      "source": [
        "#model_pk = pickle.load(open('Salary_Estimater.pkl','rb'))"
      ],
      "metadata": {
        "id": "CdD5AZRnWzBF"
      },
      "execution_count": 5,
      "outputs": []
    },
    {
      "cell_type": "code",
      "source": [
        "my_sample = {'Rating':3.5 ,  'Job Title_analyst':0,\n",
        "       'Job Title_data engineer':0, 'Job Title_data scientist':1,\n",
        "       'Job Title_deep learning engineer':0, 'Job Title_director':0,\n",
        "       'Job Title_machine learning engineer':0, 'Job Title_manager':0,\n",
        "       'Job Title_other':0, 'Job Title_researcher':0, 'State_AZ':1, 'State_CA':0,\n",
        "       'State_DC':0, 'State_DE':0, 'State_FL':0, 'State_GA':0, 'State_IL':0, 'State_IN':0,\n",
        "       'State_KY':0, 'State_MA':0, 'State_MD':0, 'State_ME':0, 'State_MI':0, 'State_NC':0,\n",
        "       'State_NH':0, 'State_NJ':0, 'State_NM':0, 'State_NY':0, 'State_OH':0, 'State_PA':0,\n",
        "       'State_TX':0, 'State_VA':0, 'State_WI':0}"
      ],
      "metadata": {
        "id": "PDTbW5JVW-M0"
      },
      "execution_count": 6,
      "outputs": []
    },
    {
      "cell_type": "code",
      "source": [
        "my_sample = pd.DataFrame([my_sample])"
      ],
      "metadata": {
        "id": "peEB4U6-XsMW"
      },
      "execution_count": 7,
      "outputs": []
    },
    {
      "cell_type": "code",
      "source": [
        "my_sample.info()"
      ],
      "metadata": {
        "colab": {
          "base_uri": "https://localhost:8080/"
        },
        "id": "5XAH1gMMYOFn",
        "outputId": "b228e002-6b80-4c47-b024-7ffdfc85f1ac"
      },
      "execution_count": 8,
      "outputs": [
        {
          "output_type": "stream",
          "name": "stdout",
          "text": [
            "<class 'pandas.core.frame.DataFrame'>\n",
            "RangeIndex: 1 entries, 0 to 0\n",
            "Data columns (total 33 columns):\n",
            " #   Column                               Non-Null Count  Dtype  \n",
            "---  ------                               --------------  -----  \n",
            " 0   Rating                               1 non-null      float64\n",
            " 1   Job Title_analyst                    1 non-null      int64  \n",
            " 2   Job Title_data engineer              1 non-null      int64  \n",
            " 3   Job Title_data scientist             1 non-null      int64  \n",
            " 4   Job Title_deep learning engineer     1 non-null      int64  \n",
            " 5   Job Title_director                   1 non-null      int64  \n",
            " 6   Job Title_machine learning engineer  1 non-null      int64  \n",
            " 7   Job Title_manager                    1 non-null      int64  \n",
            " 8   Job Title_other                      1 non-null      int64  \n",
            " 9   Job Title_researcher                 1 non-null      int64  \n",
            " 10  State_AZ                             1 non-null      int64  \n",
            " 11  State_CA                             1 non-null      int64  \n",
            " 12  State_DC                             1 non-null      int64  \n",
            " 13  State_DE                             1 non-null      int64  \n",
            " 14  State_FL                             1 non-null      int64  \n",
            " 15  State_GA                             1 non-null      int64  \n",
            " 16  State_IL                             1 non-null      int64  \n",
            " 17  State_IN                             1 non-null      int64  \n",
            " 18  State_KY                             1 non-null      int64  \n",
            " 19  State_MA                             1 non-null      int64  \n",
            " 20  State_MD                             1 non-null      int64  \n",
            " 21  State_ME                             1 non-null      int64  \n",
            " 22  State_MI                             1 non-null      int64  \n",
            " 23  State_NC                             1 non-null      int64  \n",
            " 24  State_NH                             1 non-null      int64  \n",
            " 25  State_NJ                             1 non-null      int64  \n",
            " 26  State_NM                             1 non-null      int64  \n",
            " 27  State_NY                             1 non-null      int64  \n",
            " 28  State_OH                             1 non-null      int64  \n",
            " 29  State_PA                             1 non-null      int64  \n",
            " 30  State_TX                             1 non-null      int64  \n",
            " 31  State_VA                             1 non-null      int64  \n",
            " 32  State_WI                             1 non-null      int64  \n",
            "dtypes: float64(1), int64(32)\n",
            "memory usage: 392.0 bytes\n"
          ]
        }
      ]
    },
    {
      "cell_type": "code",
      "source": [
        "model_pk.predict(my_sample)"
      ],
      "metadata": {
        "colab": {
          "base_uri": "https://localhost:8080/"
        },
        "id": "ex0-Ss2kYTB6",
        "outputId": "7082ad80-89eb-42dc-e1fb-402b1b17655a"
      },
      "execution_count": 9,
      "outputs": [
        {
          "output_type": "execute_result",
          "data": {
            "text/plain": [
              "array([106.71875])"
            ]
          },
          "metadata": {},
          "execution_count": 9
        }
      ]
    }
  ]
}